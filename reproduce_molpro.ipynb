{
 "cells": [
  {
   "cell_type": "code",
   "execution_count": 1,
   "id": "9b63f882",
   "metadata": {},
   "outputs": [
    {
     "name": "stdout",
     "output_type": "stream",
     "text": [
      "RPA:   E_corr=-0.8026573012  E_tot=-113.5699126662\n",
      "SIGMA: E_corr=-0.6264627558  E_tot=-113.3937181208\n"
     ]
    }
   ],
   "source": [
    "from pyscf import gto, dft\n",
    "from pyscf.gw.sigma import SIGMA\n",
    "from aug_cc_pwcvqz_mp2fit import AUXBASIS\n",
    "\n",
    "mol = gto.Mole()\n",
    "mol.verbose = 0\n",
    "mol.atom = [\n",
    "    [6 , (0. , 0. ,-0.646514)],\n",
    "    [8 , (0. , 0. , 0.484886)]]\n",
    "mol.basis = 'aug-cc-pwCVQZ'\n",
    "mol.build()\n",
    "\n",
    "mf = dft.RKS(mol, xc='pbe').density_fit(auxbasis=AUXBASIS).run()\n",
    "\n",
    "sigma = SIGMA(mf)\n",
    "sigma.kernel(nw=50, w_scale=2.5)\n",
    "print(f\"RPA:   E_corr={sigma.e_corr_rpa:.10f}  E_tot={sigma.e_tot_rpa:.10f}\")\n",
    "print(f\"SIGMA: E_corr={sigma.e_corr:.10f}  E_tot={sigma.e_tot:.10f}\")\n",
    "\n",
    "# Molpro values for similar setup:\n",
    "# RPA:   E_corr=-0.8026574972 E_tot=-113.5699125887\n",
    "# SIGMA: E_corr=-0.6264629678 E_tot=-113.3937180593"
   ]
  },
  {
   "cell_type": "code",
   "execution_count": 2,
   "id": "c02bd2e7",
   "metadata": {},
   "outputs": [
    {
     "name": "stdout",
     "output_type": "stream",
     "text": [
      "RPA:   E_corr=-0.7481528270  E_tot=-113.5255928366\n",
      "SIGMA: E_corr=-0.5943100131  E_tot=-113.3717500227\n"
     ]
    }
   ],
   "source": [
    "from pyscf import gto, dft\n",
    "from pyscf.gw.sigma import SIGMA\n",
    "from aug_cc_pwcvqz_mp2fit import AUXBASIS\n",
    "\n",
    "mol = gto.Mole()\n",
    "mol.verbose = 0\n",
    "mol.atom = [\n",
    "    [6 , (0. , 0. ,-0.646514)],\n",
    "    [8 , (0. , 0. , 0.484886)]]\n",
    "mol.basis = 'aug-cc-pwCVQZ'\n",
    "mol.build()\n",
    "\n",
    "mf = dft.RKS(mol, xc='pbe0').density_fit(auxbasis=AUXBASIS).run()\n",
    "\n",
    "sigma = SIGMA(mf)\n",
    "sigma.kernel(nw=50, w_scale=2.5)\n",
    "print(f\"RPA:   E_corr={sigma.e_corr_rpa:.10f}  E_tot={sigma.e_tot_rpa:.10f}\")\n",
    "print(f\"SIGMA: E_corr={sigma.e_corr:.10f}  E_tot={sigma.e_tot:.10f}\")\n",
    "\n",
    "# Molpro values for similar setup:\n",
    "# RPA:   E_corr=-0.7481530934  E_tot=-113.5255931397\n",
    "# SIGMA: E_corr=-0.5943104782  E_tot=-113.3717505245"
   ]
  },
  {
   "cell_type": "code",
   "execution_count": 3,
   "id": "857647c5",
   "metadata": {},
   "outputs": [
    {
     "name": "stdout",
     "output_type": "stream",
     "text": [
      "RPA:   E_corr=-0.3903608069  E_tot=-55.3670284109\n",
      "SIGMA: E_corr=-0.2954267621  E_tot=-55.2720943660\n"
     ]
    }
   ],
   "source": [
    "from pyscf import gto, dft\n",
    "from pyscf.gw.usigma import USIGMA\n",
    "from aug_cc_pwcvqz_mp2fit import AUXBASIS\n",
    "\n",
    "mol = gto.Mole()\n",
    "mol.verbose = 0\n",
    "mol.atom = [\n",
    "    [7 , (0. , 0. , 0.129649)],\n",
    "    [1 , (0. , 0. ,-0.907543)]]\n",
    "mol.basis = {\"N\": 'aug-cc-pwCVQZ', \"H\": 'aug-cc-pVQZ'}\n",
    "mol.spin = 2\n",
    "mol.build()\n",
    "\n",
    "mf = dft.UKS(mol, xc='pbe').density_fit(auxbasis=AUXBASIS).run()\n",
    "\n",
    "usigma = USIGMA(mf)\n",
    "usigma.kernel(nw=50, w_scale=2.5)\n",
    "print(f\"RPA:   E_corr={usigma.e_corr_rpa:.10f}  E_tot={usigma.e_tot_rpa:.10f}\")\n",
    "print(f\"SIGMA: E_corr={usigma.e_corr:.10f}  E_tot={usigma.e_tot:.10f}\")\n",
    "\n",
    "# Molpro values for similar setup:\n",
    "# RPA:   E_corr=-0.3903602822  E_tot=-55.3670281989\n",
    "# SIGMA: E_corr=-0.2954264966  E_tot=-55.2720944134"
   ]
  },
  {
   "cell_type": "code",
   "execution_count": 4,
   "id": "10f304bb",
   "metadata": {},
   "outputs": [
    {
     "name": "stdout",
     "output_type": "stream",
     "text": [
      "RPA:   E_corr=-0.3632253102  E_tot=-55.3441796037\n",
      "SIGMA: E_corr=-0.2760027034  E_tot=-55.2569569969\n"
     ]
    }
   ],
   "source": [
    "from pyscf import gto, dft\n",
    "from pyscf.gw.usigma import USIGMA\n",
    "from aug_cc_pwcvqz_mp2fit import AUXBASIS\n",
    "\n",
    "mol = gto.Mole()\n",
    "mol.verbose = 0\n",
    "mol.atom = [\n",
    "    [7 , (0. , 0. , 0.129649)],\n",
    "    [1 , (0. , 0. ,-0.907543)]]\n",
    "mol.basis = {\"N\": 'aug-cc-pwCVQZ', \"H\": 'aug-cc-pVQZ'}\n",
    "mol.spin = 2\n",
    "mol.build()\n",
    "\n",
    "mf = dft.UKS(mol, xc='pbe0').density_fit(auxbasis=AUXBASIS).run()\n",
    "\n",
    "usigma = USIGMA(mf)\n",
    "usigma.kernel(nw=50, w_scale=2.5)\n",
    "print(f\"RPA:   E_corr={usigma.e_corr_rpa:.10f}  E_tot={usigma.e_tot_rpa:.10f}\")\n",
    "print(f\"SIGMA: E_corr={usigma.e_corr:.10f}  E_tot={usigma.e_tot:.10f}\")\n",
    "\n",
    "# Molpro values for similar setup:\n",
    "# RPA:   E_corr=-0.3632251623  E_tot=-55.3441796230\n",
    "# SIGMA: E_corr=-0.2760026503  E_tot=-55.2569571110"
   ]
  }
 ],
 "metadata": {
  "kernelspec": {
   "display_name": "pyscf-env",
   "language": "python",
   "name": "pyscf-env"
  },
  "language_info": {
   "codemirror_mode": {
    "name": "ipython",
    "version": 3
   },
   "file_extension": ".py",
   "mimetype": "text/x-python",
   "name": "python",
   "nbconvert_exporter": "python",
   "pygments_lexer": "ipython3",
   "version": "3.10.7"
  }
 },
 "nbformat": 4,
 "nbformat_minor": 5
}

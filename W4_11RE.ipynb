{
 "cells": [
  {
   "cell_type": "code",
   "execution_count": 1,
   "id": "492b6142",
   "metadata": {},
   "outputs": [],
   "source": [
    "import pickle\n",
    "import numpy as np\n",
    "import matplotlib.pyplot as plt\n",
    "from tqdm import tqdm\n",
    "from pyscf import gto, dft, lib\n",
    "from pyscf.gw.sigma import SIGMA\n",
    "from pyscf.gw.usigma import USIGMA\n",
    "from matplotlib import rcParams\n",
    "rcParams['font.family'] = 'sans-serif'\n",
    "plt.rcParams['axes.unicode_minus'] = False"
   ]
  },
  {
   "cell_type": "code",
   "execution_count": 2,
   "id": "a982861d",
   "metadata": {},
   "outputs": [],
   "source": [
    "MOLECULES_PKL = \"molecules-W4-11.pkl\"\n",
    "REACTIONS_PKL = \"reactions-W4-11RE-c2.pkl\"  # C2 is exluded - convergence problem\n",
    "BASIS = {\"H\":  \"aug-cc-pVTZ\",\n",
    "         \"Be\": \"aug-cc-pVTZ\",\n",
    "         \"B\":  \"aug-cc-pwCVTZ\",\n",
    "         \"C\":  \"aug-cc-pwCVTZ\",\n",
    "         \"N\":  \"aug-cc-pwCVTZ\",\n",
    "         \"O\":  \"aug-cc-pwCVTZ\",\n",
    "         \"F\":  \"aug-cc-pwCVTZ\",\n",
    "         \"Al\": \"aug-cc-pwCVTZ\",\n",
    "         \"Si\": \"aug-cc-pwCVTZ\",\n",
    "         \"P\":  \"aug-cc-pwCVTZ\",\n",
    "         \"S\":  \"aug-cc-pwCVTZ\",\n",
    "         \"Cl\": \"aug-cc-pwCVTZ\"}"
   ]
  },
  {
   "cell_type": "code",
   "execution_count": 3,
   "id": "c7631eb6",
   "metadata": {},
   "outputs": [],
   "source": [
    "with open(MOLECULES_PKL, \"rb\") as f:\n",
    "    mol_dict = pickle.load(f)\n",
    "\n",
    "with open(REACTIONS_PKL, \"rb\") as f:\n",
    "    react_dict = pickle.load(f)"
   ]
  },
  {
   "cell_type": "code",
   "execution_count": 4,
   "id": "7e295578",
   "metadata": {},
   "outputs": [],
   "source": [
    "def atom_input(charges, xyz):\n",
    "    \"\"\"Construct input for mol.atom from charges and xyz.\"\"\"\n",
    "    atom_input_ = []\n",
    "    for i in range(len(charges)):\n",
    "        atom_input_.append([charges[i], tuple(xyz[i])])\n",
    "    return atom_input_"
   ]
  },
  {
   "cell_type": "code",
   "execution_count": 5,
   "id": "c58d49bd",
   "metadata": {},
   "outputs": [],
   "source": [
    "def calc_molecule(mol_dict, basis, xc):\n",
    "    \"\"\"Perform calculation for given molecule from mol_dict,\n",
    "       basis and xc-functional.\"\"\"\n",
    "    mol = gto.Mole()\n",
    "    mol.verbose = 0\n",
    "    mol.atom = atom_input(\n",
    "        mol_dict[\"structure\"].get_atomic_numbers(),\n",
    "        mol_dict[\"structure\"].get_positions(),\n",
    "    )\n",
    "    mol.basis = basis\n",
    "    mol.charge = mol_dict[\"charge\"]\n",
    "    mol.spin = mol_dict[\"spin\"]\n",
    "    mol.build()\n",
    "\n",
    "    if mol_dict[\"spin\"] == 0:\n",
    "        mf = dft.RKS(mol, xc=xc).density_fit().run()\n",
    "        sigma = SIGMA(mf)\n",
    "    else:\n",
    "        mf = dft.UKS(mol, xc=xc).density_fit().run()\n",
    "        sigma = USIGMA(mf)\n",
    "\n",
    "    sigma.kernel(nw=50, w_scale=2.5)\n",
    "\n",
    "    return sigma"
   ]
  },
  {
   "cell_type": "code",
   "execution_count": 6,
   "id": "792c3166",
   "metadata": {},
   "outputs": [],
   "source": [
    "HARTREE2KCALMOL = 627.509\n",
    "\n",
    "def eval_reactions(react_dict, mol_dict):\n",
    "    \"\"\"Evaluate and collect reaction energies.\"\"\"\n",
    "    e_calc = np.zeros(len(react_dict))\n",
    "    e_calc_rpa = np.zeros(len(react_dict))\n",
    "    e_ref = np.zeros(len(react_dict))\n",
    "    k = 0\n",
    "    for i in react_dict:\n",
    "        e = 0.0\n",
    "        e_rpa = 0.0\n",
    "        for j in range(len(react_dict[i][\"c\"])):\n",
    "            e += react_dict[i][\"c\"][j] * mol_dict[react_dict[i][\"molecules\"][j]][\"e_tot\"]\n",
    "            e_rpa += react_dict[i][\"c\"][j] * mol_dict[react_dict[i][\"molecules\"][j]][\"e_tot_rpa\"]\n",
    "        e_calc[k] = HARTREE2KCALMOL*e\n",
    "        e_calc_rpa[k] = HARTREE2KCALMOL*e_rpa\n",
    "        e_ref[k] = react_dict[i][\"reference\"]\n",
    "        k += 1\n",
    "    return e_calc, e_calc_rpa, e_ref"
   ]
  },
  {
   "cell_type": "code",
   "execution_count": 7,
   "id": "673f63a7",
   "metadata": {},
   "outputs": [],
   "source": [
    "def plot_dev_histogram(e_calc, e_calc_rpa, e_ref, mae, mae_rpa):\n",
    "    \"\"\"Plot histogram for deviations from reference reaction energies - RPA vs Sigma.\"\"\"\n",
    "    fig, ax = plt.subplots(1, 1, figsize=(5,4))\n",
    "\n",
    "    yrpa = e_calc_rpa - e_ref\n",
    "\n",
    "    ax.hist(yrpa, 64, color='orangered', range=(-16.,16.), alpha=0.5, label='RPA')\n",
    "    ax.hist(yrpa, 64, histtype = 'step', color='k', lw = 1.0, range=(-16.,16.), alpha=1.0)\n",
    "\n",
    "    ysigma = e_calc - e_ref\n",
    "    ax.hist(ysigma, 64, color='dodgerblue',range=(-16.,16.), alpha=0.5, label='$\\sigma$-functional')\n",
    "    ax.hist(ysigma, 64, histtype = 'step', color='k' ,range=(-16.,16.), lw = 1.0, alpha=1.0)\n",
    "\n",
    "    ax.set_ylabel('Count',fontsize=12)\n",
    "\n",
    "    ax.set_xlim(-16.1,16.1)\n",
    "\n",
    "    ax.legend(loc=1,frameon=False, fontsize=12)\n",
    "\n",
    "    plt.text(0.02, 0.92, f\"MAE(RPA)={mae_rpa:.2f}\", fontsize=12, weight=\"medium\", transform=ax.transAxes)\n",
    "    plt.text(0.05, 0.85, f\"MAE($\\sigma$)={mae:.2f}\", fontsize=12, weight=\"medium\", transform=ax.transAxes)\n",
    "\n",
    "    plt.tight_layout()\n",
    "    plt.show()"
   ]
  },
  {
   "cell_type": "code",
   "execution_count": 8,
   "id": "73268844",
   "metadata": {},
   "outputs": [
    {
     "name": "stderr",
     "output_type": "stream",
     "text": [
      "Calculating t-n2h2: 100%|███████████████████████████████████████████████████████████████████████████████████████████████████████████████████████████████████| 152/152 [37:23<00:00, 14.76s/it]\n"
     ]
    }
   ],
   "source": [
    "# calculate energies for systems from W4-11 datasets\n",
    "# based on the PBE reference calculations\n",
    "\n",
    "results = dict()\n",
    "pbar = tqdm(sorted(mol_dict.keys()))\n",
    "for mol in pbar:\n",
    "    sigma = calc_molecule(mol_dict[mol], BASIS, xc=\"pbe\")\n",
    "    results[mol] = {\"e_hf\": sigma.e_hf,\n",
    "                    \"e_corr\": sigma.e_corr,\n",
    "                    \"e_corr_rpa\": sigma.e_corr_rpa,\n",
    "                    \"e_tot\": sigma.e_tot,\n",
    "                    \"e_tot_rpa\": sigma.e_tot_rpa}\n",
    "    pbar.set_description(\"Calculating %s\" % mol)\n",
    "\n",
    "with open(\"energies_pbe.pkl\", \"wb\") as f:\n",
    "    pickle.dump(results, f)"
   ]
  },
  {
   "cell_type": "code",
   "execution_count": 9,
   "id": "6f7b49e2",
   "metadata": {},
   "outputs": [
    {
     "name": "stdout",
     "output_type": "stream",
     "text": [
      "RPA:   MAE = 3.878  RMSE = 5.011\n",
      "SIGMA: MAE = 1.883  RMSE = 2.448\n"
     ]
    }
   ],
   "source": [
    "# Evaluate reaction energies\n",
    "\n",
    "with open(\"energies_pbe.pkl\", \"rb\") as f:\n",
    "    en_dict = pickle.load(f)\n",
    "\n",
    "e_calc, e_calc_rpa, e_ref = eval_reactions(react_dict, en_dict)\n",
    "\n",
    "mae = np.mean(abs(e_calc - e_ref))\n",
    "rmse = np.sqrt(np.mean((e_calc - e_ref) ** 2))\n",
    "mae_rpa = np.mean(abs(e_calc_rpa - e_ref))\n",
    "rmse_rpa = np.sqrt(np.mean((e_calc_rpa - e_ref) ** 2))\n",
    "\n",
    "print(f\"RPA:   MAE = {mae_rpa:.3f}  RMSE = {rmse_rpa:.3f}\")\n",
    "print(f\"SIGMA: MAE = {mae:.3f}  RMSE = {rmse:.3f}\")"
   ]
  },
  {
   "cell_type": "code",
   "execution_count": 10,
   "id": "454dfc7e",
   "metadata": {},
   "outputs": [
    {
     "data": {
      "image/png": "[encoded data removed]",
      "text/plain": [
       "<Figure size 500x400 with 1 Axes>"
      ]
     },
     "metadata": {},
     "output_type": "display_data"
    }
   ],
   "source": [
    "# Plot\n",
    "plot_dev_histogram(e_calc, e_calc_rpa, e_ref, mae, mae_rpa)"
   ]
  },
  {
   "cell_type": "code",
   "execution_count": 11,
   "id": "b98fae3b",
   "metadata": {},
   "outputs": [
    {
     "name": "stderr",
     "output_type": "stream",
     "text": [
      "Calculating t-n2h2: 100%|███████████████████████████████████████████████████████████████████████████████████████████████████████████████████████████████████| 152/152 [44:21<00:00, 17.51s/it]\n"
     ]
    }
   ],
   "source": [
    "# calculate energies for systems from W4-11 datasets\n",
    "# based on the PBE0 reference calculations\n",
    "\n",
    "results = dict()\n",
    "pbar = tqdm(sorted(mol_dict.keys()))\n",
    "for mol in pbar:\n",
    "    sigma = calc_molecule(mol_dict[mol], BASIS, xc=\"pbe0\")\n",
    "    results[mol] = {\"e_hf\": sigma.e_hf,\n",
    "                    \"e_corr\": sigma.e_corr,\n",
    "                    \"e_corr_rpa\": sigma.e_corr_rpa,\n",
    "                    \"e_tot\": sigma.e_tot,\n",
    "                    \"e_tot_rpa\": sigma.e_tot_rpa}\n",
    "    pbar.set_description(\"Calculating %s\" % mol)\n",
    "\n",
    "with open(\"energies_pbe0.pkl\", \"wb\") as f:\n",
    "    pickle.dump(results, f)"
   ]
  },
  {
   "cell_type": "code",
   "execution_count": 12,
   "id": "b7922555",
   "metadata": {},
   "outputs": [
    {
     "name": "stdout",
     "output_type": "stream",
     "text": [
      "RPA:   MAE = 2.618  RMSE = 3.412\n",
      "SIGMA: MAE = 1.430  RMSE = 1.898\n"
     ]
    }
   ],
   "source": [
    "# Evaluate reaction energies\n",
    "\n",
    "with open(\"energies_pbe0.pkl\", \"rb\") as f:\n",
    "    en_dict = pickle.load(f)\n",
    "\n",
    "e_calc, e_calc_rpa, e_ref = eval_reactions(react_dict, en_dict)\n",
    "\n",
    "mae = np.mean(abs(e_calc - e_ref))\n",
    "rmse = np.sqrt(np.mean((e_calc - e_ref) ** 2))\n",
    "mae_rpa = np.mean(abs(e_calc_rpa - e_ref))\n",
    "rmse_rpa = np.sqrt(np.mean((e_calc_rpa - e_ref) ** 2))\n",
    "\n",
    "print(f\"RPA:   MAE = {mae_rpa:.3f}  RMSE = {rmse_rpa:.3f}\")\n",
    "print(f\"SIGMA: MAE = {mae:.3f}  RMSE = {rmse:.3f}\")"
   ]
  },
  {
   "cell_type": "code",
   "execution_count": 13,
   "id": "1d189b95",
   "metadata": {},
   "outputs": [
    {
     "data": {
      "image/png": "[encoded data removed]",
      "text/plain": [
       "<Figure size 500x400 with 1 Axes>"
      ]
     },
     "metadata": {},
     "output_type": "display_data"
    }
   ],
   "source": [
    "# Plot\n",
    "plot_dev_histogram(e_calc, e_calc_rpa, e_ref, mae, mae_rpa)"
   ]
  }
 ],
 "metadata": {
  "kernelspec": {
   "display_name": "pyscf-env",
   "language": "python",
   "name": "pyscf-env"
  },
  "language_info": {
   "codemirror_mode": {
    "name": "ipython",
    "version": 3
   },
   "file_extension": ".py",
   "mimetype": "text/x-python",
   "name": "python",
   "nbconvert_exporter": "python",
   "pygments_lexer": "ipython3",
   "version": "3.10.7"
  }
 },
 "nbformat": 4,
 "nbformat_minor": 5
}

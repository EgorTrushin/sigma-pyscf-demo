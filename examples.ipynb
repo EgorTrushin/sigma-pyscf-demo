{
 "cells": [
  {
   "cell_type": "code",
   "execution_count": 1,
   "id": "70840fa1",
   "metadata": {},
   "outputs": [
    {
     "name": "stdout",
     "output_type": "stream",
     "text": [
      "RPA:   E_corr=-0.7431912425  E_tot=-113.5038409498\n",
      "SIGMA: E_corr=-0.6523283257  E_tot=-113.4129780330\n"
     ]
    }
   ],
   "source": [
    "from pyscf import gto, dft\n",
    "from pyscf.gw.sigma import SIGMA\n",
    "\n",
    "mol = gto.Mole()\n",
    "mol.verbose = 0\n",
    "mol.atom = [\n",
    "    [6 , (0. , 0. ,-0.646514)],\n",
    "    [8 , (0. , 0. , 0.484886)]]\n",
    "mol.basis = 'aug-cc-pwCVTZ'\n",
    "mol.build()\n",
    "\n",
    "mf = dft.RKS(mol)\n",
    "mf.xc = 'pbe'\n",
    "mf.kernel()\n",
    "\n",
    "sigma = SIGMA(mf)\n",
    "sigma.kernel(nw=20, w_scale=2.5)\n",
    "print(f\"RPA:   E_corr={sigma.e_corr_rpa:.10f}  E_tot={sigma.e_tot_rpa:.10f}\")\n",
    "print(f\"SIGMA: E_corr={sigma.e_corr:.10f}  E_tot={sigma.e_tot:.10f}\")"
   ]
  },
  {
   "cell_type": "code",
   "execution_count": 2,
   "id": "db7c64e0",
   "metadata": {},
   "outputs": [
    {
     "name": "stdout",
     "output_type": "stream",
     "text": [
      "RPA:   E_corr=-0.3699208418  E_tot=-55.3131830839\n",
      "SIGMA: E_corr=-0.3212889605  E_tot=-55.2645512027\n"
     ]
    }
   ],
   "source": [
    "from pyscf import gto, dft\n",
    "from pyscf.gw.usigma import USIGMA\n",
    "\n",
    "mol = gto.Mole()\n",
    "mol.verbose = 0\n",
    "mol.atom = [\n",
    "    [7 , (0. , 0. , 0.129649)],\n",
    "    [1 , (0. , 0. ,-0.907543)]]\n",
    "mol.basis = {\"N\": 'aug-cc-pwCVTZ', \"H\": 'aug-cc-pVTZ'}\n",
    "mol.build()\n",
    "\n",
    "mf = dft.UKS(mol)\n",
    "mf.xc = 'pbe'\n",
    "mf.spin = 2\n",
    "mf.kernel()\n",
    "\n",
    "usigma = USIGMA(mf)\n",
    "usigma.kernel(nw=20, w_scale=2.5)\n",
    "print(f\"RPA:   E_corr={usigma.e_corr_rpa:.10f}  E_tot={usigma.e_tot_rpa:.10f}\")\n",
    "print(f\"SIGMA: E_corr={usigma.e_corr:.10f}  E_tot={usigma.e_tot:.10f}\")"
   ]
  }
 ],
 "metadata": {
  "kernelspec": {
   "display_name": "pyscf-env",
   "language": "python",
   "name": "pyscf-env"
  },
  "language_info": {
   "codemirror_mode": {
    "name": "ipython",
    "version": 3
   },
   "file_extension": ".py",
   "mimetype": "text/x-python",
   "name": "python",
   "nbconvert_exporter": "python",
   "pygments_lexer": "ipython3",
   "version": "3.10.7"
  }
 },
 "nbformat": 4,
 "nbformat_minor": 5
}
